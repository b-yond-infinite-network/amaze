{
 "cells": [
  {
   "cell_type": "markdown",
   "id": "4f5d05bd-4296-46cc-9e7f-e834dac55159",
   "metadata": {},
   "source": [
    "# Olympic Games. Data exploration"
   ]
  },
  {
   "cell_type": "markdown",
   "id": "c4e28bde-a42d-47fe-8c9d-2017381903eb",
   "metadata": {},
   "source": [
    "#### 0. Libraries"
   ]
  },
  {
   "cell_type": "code",
   "execution_count": 1,
   "id": "8c3fda20-fda9-4d77-9519-6871e388acc0",
   "metadata": {},
   "outputs": [],
   "source": [
    "import pandas as pd\n",
    "import numpy as np\n",
    "import seaborn as sns\n",
    "import matplotlib.pylab as plt"
   ]
  },
  {
   "cell_type": "markdown",
   "id": "d56015aa-3373-46b1-a71b-af0b5d87f410",
   "metadata": {},
   "source": [
    "## 1. Load Data"
   ]
  },
  {
   "cell_type": "code",
   "execution_count": 8,
   "id": "b0e4245d-59b9-4d22-a53b-9abf0fa5efb7",
   "metadata": {},
   "outputs": [
    {
     "output_type": "execute_result",
     "data": {
      "text/plain": [
       "   id               name gender  age  height  weight\n",
       "0  51  Nstor Abad Sanjun      M   23   167.0    64.0"
      ],
      "text/html": "<div>\n<style scoped>\n    .dataframe tbody tr th:only-of-type {\n        vertical-align: middle;\n    }\n\n    .dataframe tbody tr th {\n        vertical-align: top;\n    }\n\n    .dataframe thead th {\n        text-align: right;\n    }\n</style>\n<table border=\"1\" class=\"dataframe\">\n  <thead>\n    <tr style=\"text-align: right;\">\n      <th></th>\n      <th>id</th>\n      <th>name</th>\n      <th>gender</th>\n      <th>age</th>\n      <th>height</th>\n      <th>weight</th>\n    </tr>\n  </thead>\n  <tbody>\n    <tr>\n      <th>0</th>\n      <td>51</td>\n      <td>Nstor Abad Sanjun</td>\n      <td>M</td>\n      <td>23</td>\n      <td>167.0</td>\n      <td>64.0</td>\n    </tr>\n  </tbody>\n</table>\n</div>"
     },
     "metadata": {},
     "execution_count": 8
    }
   ],
   "source": [
    "athletes = pd.read_csv(\"../dataset/athletes.csv\").drop_duplicates()\n",
    "athletes.head(1)"
   ]
  },
  {
   "cell_type": "code",
   "execution_count": null,
   "id": "8b1b54d9-63cb-48aa-b973-99ddf902550a",
   "metadata": {},
   "outputs": [],
   "source": [
    "country = pd.read_csv(\"../dataset/countries.csv\").drop_duplicates()\n",
    "country.head(1)"
   ]
  },
  {
   "cell_type": "code",
   "execution_count": null,
   "id": "42e8ade2-c0b2-46df-99f9-298ced3ee91d",
   "metadata": {},
   "outputs": [],
   "source": [
    "stats = pd.read_csv(\"../dataset/country_stats.csv\").drop_duplicates()\n",
    "stats.head(1)"
   ]
  },
  {
   "cell_type": "code",
   "execution_count": null,
   "id": "22cc38f1-1db0-4cd2-a18d-31df21bbec60",
   "metadata": {},
   "outputs": [],
   "source": [
    "summer = pd.read_csv(\"../dataset/summer_games.csv\").drop_duplicates()\n",
    "summer.head(1)"
   ]
  },
  {
   "cell_type": "code",
   "execution_count": null,
   "id": "3b2f8687-db19-4deb-8177-9b5f511963f6",
   "metadata": {},
   "outputs": [],
   "source": [
    "winter = pd.read_csv(\"../dataset/winter_games.csv\").drop_duplicates()\n",
    "winter.head(1)"
   ]
  },
  {
   "cell_type": "markdown",
   "id": "b1b362b7-9dfd-4cd6-a9cd-3b064ea3c140",
   "metadata": {},
   "source": [
    "## 2. Pre-process Data"
   ]
  },
  {
   "cell_type": "markdown",
   "id": "2c783bda-1518-47ec-9eca-ef66d9e5975e",
   "metadata": {},
   "source": [
    "### 2.1 Basic transformations"
   ]
  },
  {
   "cell_type": "code",
   "execution_count": null,
   "id": "2721a24b-820b-4643-ac40-18a5ef23af0e",
   "metadata": {},
   "outputs": [],
   "source": [
    "athletes = athletes.rename(columns={\"id\":\"athlete_id\"})"
   ]
  },
  {
   "cell_type": "markdown",
   "id": "07820cb1-7a84-48aa-80db-ed553d5d3acd",
   "metadata": {},
   "source": [
    "Drop the youngest entry for athlete 127594 because it is duplicated."
   ]
  },
  {
   "cell_type": "code",
   "execution_count": null,
   "id": "f3fcbcc8-2a5a-46ac-810d-c61bb766a23b",
   "metadata": {},
   "outputs": [],
   "source": [
    "athletes = athletes.loc[~((athletes[\"athlete_id\"] == 127594) & (athletes[\"age\"] == 28)), :]"
   ]
  },
  {
   "cell_type": "markdown",
   "id": "33fb670b-b1bd-46a8-a14b-cd627bb6b13a",
   "metadata": {},
   "source": [
    "Drop NA values and separate country code from country name."
   ]
  },
  {
   "cell_type": "code",
   "execution_count": null,
   "id": "35a0ca0f-1b8b-4616-969a-3b476fbf34ea",
   "metadata": {},
   "outputs": [],
   "source": [
    "country = country.dropna()\n",
    "country[['country_code','country_name']] = country[\"country\"].str.split(\"-\",expand=True,)\n",
    "country = country.drop([\"country\"], axis=1)\n",
    "country = country.rename(columns={\"id\":\"country_id\"})"
   ]
  },
  {
   "cell_type": "markdown",
   "id": "00c97324-628f-425f-bb9f-dd5524a693c0",
   "metadata": {},
   "source": [
    "Replace missing values and transform the year to YYYY format."
   ]
  },
  {
   "cell_type": "code",
   "execution_count": null,
   "id": "398c8d4f-8ae9-437f-b860-938ab41d0dee",
   "metadata": {},
   "outputs": [],
   "source": [
    "stats = stats.replace(np.NaN, 0)\n",
    "stats[\"year\"] = stats[\"year\"].astype(str).str[0:4].astype(int)"
   ]
  },
  {
   "cell_type": "markdown",
   "id": "d2befa90-6b17-44e3-bf44-24849ff4d8f5",
   "metadata": {},
   "source": [
    "Transform the year to YYYY formats and replace NaNs in `medal` with \"No Medal\"."
   ]
  },
  {
   "cell_type": "code",
   "execution_count": null,
   "id": "f341f854-e27b-412f-9de5-7b22f090cbec",
   "metadata": {},
   "outputs": [],
   "source": [
    "summer[\"year\"] = summer[\"year\"].astype(str).str[0:4].astype(int)\n",
    "summer[\"medal\"] = summer[\"medal\"].replace(np.NaN, \"No medal\")"
   ]
  },
  {
   "cell_type": "markdown",
   "id": "f9224981-15d1-40ab-8756-a662c0d190e6",
   "metadata": {},
   "source": [
    "Transform the year to YYYY formats and replace NaNs in `medal` with \"No Medal\"."
   ]
  },
  {
   "cell_type": "code",
   "execution_count": null,
   "id": "dfe260f3-ef6c-4ce8-9e7b-a1bced208851",
   "metadata": {},
   "outputs": [],
   "source": [
    "winter[\"year\"] = winter[\"year\"].astype(str).str[0:4].astype(int)\n",
    "winter[\"medal\"] = winter[\"medal\"].replace(np.NaN, \"No medal\")\n",
    "winter.head(1)"
   ]
  },
  {
   "cell_type": "markdown",
   "id": "4210a3d1-9f82-4ea9-96f4-ab56649143e3",
   "metadata": {},
   "source": [
    "### 2.2 Joins"
   ]
  },
  {
   "cell_type": "markdown",
   "id": "90685c8d-c82b-4068-b26c-33d4100e3179",
   "metadata": {},
   "source": [
    "First, join the `country` dataset with the `stats` dataset by `country_id`:"
   ]
  },
  {
   "cell_type": "code",
   "execution_count": null,
   "id": "aa5acf75-61d9-43fa-b721-4440950ed3b6",
   "metadata": {},
   "outputs": [],
   "source": [
    "country_stats = country.merge(stats, on=\"country_id\", how=\"left\")\n",
    "country_stats.head(1)"
   ]
  },
  {
   "cell_type": "markdown",
   "id": "da88d688-ddbc-4a0c-9d2b-27644cb24ec3",
   "metadata": {},
   "source": [
    "Then, add the country information to the `athletes`. \n",
    "\n",
    "The relation `country_id` to `athlete_id` is contained in the `summer` and `winter` datasets, so first we extract it and get the 4215 athletes with their countries."
   ]
  },
  {
   "cell_type": "code",
   "execution_count": null,
   "id": "c872606b-5ac1-4f98-b3a5-18d3a3593988",
   "metadata": {},
   "outputs": [],
   "source": [
    "ath_co_summer = summer[[\"athlete_id\", \"country_id\"]].drop_duplicates()\n",
    "ath_co_winter = winter[[\"athlete_id\", \"country_id\"]].drop_duplicates()\n",
    "ath_co = pd.concat([ath_co_summer, ath_co_winter]).drop_duplicates()"
   ]
  },
  {
   "cell_type": "markdown",
   "id": "df9829ed-edcd-412c-bcd1-38ce185d2f2e",
   "metadata": {},
   "source": [
    "Add the country ID to the `athletes`:"
   ]
  },
  {
   "cell_type": "code",
   "execution_count": null,
   "id": "4c770fed-6393-46b7-9693-877fe9465c06",
   "metadata": {},
   "outputs": [],
   "source": [
    "athletes = athletes.merge(ath_co, how=\"left\")\n",
    "athletes.head(1)"
   ]
  },
  {
   "cell_type": "markdown",
   "id": "71490c2e-6fa1-4933-b243-050bc7f9d783",
   "metadata": {},
   "source": [
    "Join with the country data:"
   ]
  },
  {
   "cell_type": "code",
   "execution_count": null,
   "id": "908d8887-0435-4655-95c7-73baf075868c",
   "metadata": {},
   "outputs": [],
   "source": [
    "athletes_country = athletes.merge(country_stats, how=\"left\")\n",
    "athletes_country.head(1)"
   ]
  },
  {
   "cell_type": "markdown",
   "id": "b4e94770-8a96-46af-9a69-b799f26510f2",
   "metadata": {},
   "source": [
    "Finally we can add the athletes´ information to the `summer` and `winter` datasets, making sure that we only keep the year of the games."
   ]
  },
  {
   "cell_type": "code",
   "execution_count": null,
   "id": "a445ba16-8663-4af8-b34f-5dae554665e2",
   "metadata": {},
   "outputs": [],
   "source": [
    "summer_full = summer.merge(athletes_country, how=\"left\")\n",
    "summer_full.head(1)"
   ]
  },
  {
   "cell_type": "code",
   "execution_count": null,
   "id": "f5fd3055-ddd7-4b10-85e0-67cc1b740a40",
   "metadata": {},
   "outputs": [],
   "source": [
    "winter_full = winter.merge(athletes_country, how=\"left\")\n",
    "winter_full.head(1)"
   ]
  },
  {
   "cell_type": "markdown",
   "id": "c700122d-716a-4d0e-b081-c0407c84c23a",
   "metadata": {},
   "source": [
    "## 3. Exercises"
   ]
  },
  {
   "cell_type": "markdown",
   "id": "acc4f575-cbb8-40aa-92d8-db8fa664390e",
   "metadata": {},
   "source": [
    "### 3.2 \n",
    "\n",
    "Number of athletes of 3 top sports in summer games:"
   ]
  },
  {
   "cell_type": "code",
   "execution_count": null,
   "id": "028d76ac-e78d-4286-8e42-bba688230bb8",
   "metadata": {},
   "outputs": [],
   "source": [
    "summer_full[[\"sport\", \"athlete_id\"]].drop_duplicates().groupby(\"sport\").size()"
   ]
  },
  {
   "cell_type": "markdown",
   "id": "5e4d736c-c034-4944-804f-704281c20a2a",
   "metadata": {},
   "source": [
    "Or by event:"
   ]
  },
  {
   "cell_type": "code",
   "execution_count": null,
   "id": "072d8226-8ecc-43cd-8ccc-e200c45ac8d9",
   "metadata": {},
   "outputs": [],
   "source": [
    "summer_full[[\"event\", \"athlete_id\"]].drop_duplicates().groupby(\"event\").size().head(3)"
   ]
  },
  {
   "cell_type": "markdown",
   "id": "a045c2b4-8c38-4e90-ac70-faecc2659306",
   "metadata": {},
   "source": [
    "### 3.3"
   ]
  },
  {
   "cell_type": "markdown",
   "id": "acff24dc-4348-4331-8bb0-eb81bed049f4",
   "metadata": {},
   "source": [
    "Create a report that shows every sport's number of unique events and unique athletes"
   ]
  },
  {
   "cell_type": "markdown",
   "id": "140c80d4-f527-4238-b017-9fafc906dd50",
   "metadata": {},
   "source": [
    "**Summer**"
   ]
  },
  {
   "cell_type": "code",
   "execution_count": null,
   "id": "c4d3d99c-7a53-4e29-9d86-3083e7586e65",
   "metadata": {},
   "outputs": [],
   "source": [
    "sport_event_summer = summer_full[[\"sport\", \"event\"]].drop_duplicates().groupby([\"sport\"]).size()\n",
    "sport_event_summer = sport_event_summer.reset_index()\n",
    "sport_event_summer = sport_event_summer.rename(columns={0:\"nr_unique_events\"})\n",
    "sport_event_summer"
   ]
  },
  {
   "cell_type": "code",
   "execution_count": null,
   "id": "0d2c423a-4dc5-4c39-8997-dbe836f59c50",
   "metadata": {},
   "outputs": [],
   "source": [
    "sport_ath_summer = summer_full[[\"sport\", \"athlete_id\"]].drop_duplicates().groupby([\"sport\"]).size()\n",
    "sport_ath_summer = sport_ath_summer.reset_index()\n",
    "sport_ath_summer = sport_ath_summer.rename(columns={0:\"nr_athletes\"})\n",
    "sport_ath_summer"
   ]
  },
  {
   "cell_type": "code",
   "execution_count": null,
   "id": "9203deb6-82f9-4bd8-8c23-21cfb01569d0",
   "metadata": {},
   "outputs": [],
   "source": [
    "sport_events_ath = sport_event_summer.merge(sport_ath_summer)\n",
    "sport_events_ath"
   ]
  },
  {
   "cell_type": "markdown",
   "id": "0176aa41-0640-4c48-984d-f1ef58b71c6b",
   "metadata": {},
   "source": [
    "**Winter**"
   ]
  },
  {
   "cell_type": "code",
   "execution_count": null,
   "id": "ccc06ad9-7c81-4c52-ae02-32b72e6da024",
   "metadata": {},
   "outputs": [],
   "source": [
    "sport_event_winter = winter_full[[\"sport\", \"event\"]].drop_duplicates().groupby([\"sport\"]).size()\n",
    "sport_event_winter = sport_event_winter.reset_index()\n",
    "sport_event_winter = sport_event_winter.rename(columns={0:\"nr_unique_events\"})\n",
    "sport_event_winter"
   ]
  },
  {
   "cell_type": "code",
   "execution_count": null,
   "id": "361422d2-0b81-4a6e-92bf-f34522eb7090",
   "metadata": {},
   "outputs": [],
   "source": [
    "sport_ath_winter = winter_full[[\"sport\", \"athlete_id\"]].drop_duplicates().groupby([\"sport\"]).size()\n",
    "sport_ath_winter = sport_ath_winter.reset_index()\n",
    "sport_ath_winter = sport_ath_winter.rename(columns={0:\"nr_athletes\"})\n",
    "sport_ath_winter"
   ]
  },
  {
   "cell_type": "code",
   "execution_count": null,
   "id": "6e46096b-1b8f-476c-89ee-e97b1ce7953c",
   "metadata": {},
   "outputs": [],
   "source": [
    "sport_events_ath = sport_event_winter.merge(sport_ath_winter)\n",
    "sport_events_ath"
   ]
  },
  {
   "cell_type": "markdown",
   "id": "8804996b-ce71-4549-9c60-eba58b9ddf95",
   "metadata": {},
   "source": [
    "### 3.4\n",
    "\n",
    "Age of oldest athlete by region."
   ]
  },
  {
   "cell_type": "code",
   "execution_count": null,
   "id": "588d8f8b-9b94-4bc1-96bd-980fd4346423",
   "metadata": {},
   "outputs": [],
   "source": [
    "athletes_country[[\"region\", \"age\"]].groupby(\"region\").max(\"age\").reset_index()"
   ]
  },
  {
   "cell_type": "markdown",
   "id": "42ea08b2-e41a-40a3-96ab-10d84bec84de",
   "metadata": {},
   "source": [
    "### 3.5\n",
    "\n",
    "Create a report that shows the unique number of events held for each sport"
   ]
  },
  {
   "cell_type": "code",
   "execution_count": null,
   "id": "8a4999fd-967a-4961-b048-dd5badf1726b",
   "metadata": {},
   "outputs": [],
   "source": [
    "sport_event_summer = summer_full[[\"sport\", \"event\"]].drop_duplicates().groupby([\"sport\"]).size()\n",
    "sport_event_summer = sport_event_summer.reset_index()\n",
    "sport_event_summer = sport_event_summer.rename(columns={0:\"nr_unique_events\"})\n",
    "sport_event_summer[\"season\"] = \"summer\"\n",
    "sport_event_summer"
   ]
  },
  {
   "cell_type": "code",
   "execution_count": null,
   "id": "8ef97d6d-18ab-4858-8904-93762c822690",
   "metadata": {},
   "outputs": [],
   "source": [
    "sport_event_winter = winter_full[[\"sport\", \"event\"]].drop_duplicates().groupby([\"sport\"]).size()\n",
    "sport_event_winter = sport_event_winter.reset_index()\n",
    "sport_event_winter = sport_event_winter.rename(columns={0:\"nr_unique_events\"})\n",
    "sport_event_winter[\"season\"] = \"winter\"\n",
    "sport_event_winter"
   ]
  },
  {
   "cell_type": "code",
   "execution_count": null,
   "id": "745ba266-04a1-4236-bfb2-407f1e40df49",
   "metadata": {},
   "outputs": [],
   "source": [
    "sport_event = pd.concat([sport_event_summer, sport_event_winter])\n",
    "sport_event = sport_event.sort_values(by=\"nr_unique_events\", ascending=False)\n",
    "sport_event"
   ]
  },
  {
   "cell_type": "markdown",
   "id": "4c2a0915-dada-4240-97ac-474e36399fda",
   "metadata": {},
   "source": [
    "### 3.6\n",
    "\n",
    "Total bronze medals from summer games."
   ]
  },
  {
   "cell_type": "code",
   "execution_count": null,
   "id": "7707dacf-7d43-4379-b764-6ff0d93757cd",
   "metadata": {},
   "outputs": [],
   "source": [
    "summer[[\"medal\"]].value_counts()"
   ]
  },
  {
   "cell_type": "markdown",
   "id": "04d626c0-b7d3-4d2b-85f6-991ff7248d37",
   "metadata": {},
   "source": [
    "Bronze medals by country:"
   ]
  },
  {
   "cell_type": "code",
   "execution_count": null,
   "id": "3966f17f-e2e7-493d-b974-1fd0c492b774",
   "metadata": {},
   "outputs": [],
   "source": [
    "summer_full.loc[summer_full[\"medal\"] == \"Bronze\", [\"country_name\", \"medal\"]].value_counts()"
   ]
  },
  {
   "cell_type": "markdown",
   "id": "9ad1c7f3-8001-43c3-bac9-8f37b9d44c15",
   "metadata": {},
   "source": [
    "### 7. Interesting insights"
   ]
  },
  {
   "cell_type": "markdown",
   "id": "7fa6a7d0-1b44-4362-b7fd-abdf401bdfe4",
   "metadata": {},
   "source": [
    "***\n",
    "#### Summary\n",
    "\n",
    "* The USA was a major contributor of athletes to the olympic games (over 5% of the participants), both in summer and in winter.  \n",
    "\n",
    "* The USA are clearly superior in summer. They won 72 medals every 100 athletes. \n",
    "\n",
    "* Norway is clearly superior in winter. They won 73 medals every 100 athletes.\n",
    "\n",
    "* I suspect that countries in high latitudes are better at winter games.\n",
    "***"
   ]
  },
  {
   "cell_type": "markdown",
   "id": "05ab5638-70fc-4331-a974-677e6dc90954",
   "metadata": {},
   "source": [
    "I will use the `summer_full` and `winter_full` datasets (summer and winter games information, enriched with the country stats and athlete information).\n",
    "\n",
    "First I create a dataframe with the amount of medals by country for both winter and summer games. "
   ]
  },
  {
   "cell_type": "code",
   "execution_count": null,
   "id": "0ec704ee-3a12-4df5-b8aa-cf0c182c4060",
   "metadata": {},
   "outputs": [],
   "source": [
    "medal_country_s = summer_full[[\"country_name\", \"medal\"]].groupby([\"country_name\", \"medal\"]).size()\n",
    "medal_country_s = pd.DataFrame(medal_country_s).reset_index().rename(columns={0:\"nr_medals\"})\n",
    "medal_country_s = medal_country_s.pivot(index=\"country_name\", columns=\"medal\", values=\"nr_medals\")\n",
    "medal_country_s = medal_country_s.reset_index().replace(np.NaN, 0)"
   ]
  },
  {
   "cell_type": "code",
   "execution_count": null,
   "id": "c672c455-187b-4dc1-9554-cafeb651f1d3",
   "metadata": {},
   "outputs": [],
   "source": [
    "medal_country_w = winter_full[[\"country_name\", \"medal\"]].groupby([\"country_name\", \"medal\"]).size()\n",
    "medal_country_w = pd.DataFrame(medal_country_w).reset_index().rename(columns={0:\"nr_medals\"})\n",
    "medal_country_w = medal_country_w.pivot(index=\"country_name\", columns=\"medal\", values=\"nr_medals\")\n",
    "medal_country_w = medal_country_w.reset_index().replace(np.NaN, 0)"
   ]
  },
  {
   "cell_type": "markdown",
   "id": "6b998b9c-291c-45be-b4db-c529ebde23d0",
   "metadata": {},
   "source": [
    "Then calculate the number of athletes by country:"
   ]
  },
  {
   "cell_type": "code",
   "execution_count": null,
   "id": "83deb2fb-0a40-45b7-90ec-43e67413fdec",
   "metadata": {},
   "outputs": [],
   "source": [
    "nr_ath = summer_full[[\"country_name\", \"athlete_id\"]].drop_duplicates().groupby(\"country_name\").size()\n",
    "nr_ath = pd.DataFrame(nr_ath.reset_index()).rename(columns={0:\"nr_participants\"})\n",
    "medal_country_s = medal_country_s.merge(nr_ath, how=\"left\")"
   ]
  },
  {
   "cell_type": "code",
   "execution_count": null,
   "id": "2ec92322-3274-48a6-9698-94d9983c0312",
   "metadata": {},
   "outputs": [],
   "source": [
    "nr_ath = winter_full[[\"country_name\", \"athlete_id\"]].drop_duplicates().groupby(\"country_name\").size()\n",
    "nr_ath = pd.DataFrame(nr_ath.reset_index()).rename(columns={0:\"nr_participants\"})\n",
    "medal_country_w = medal_country_w.merge(nr_ath, how=\"left\")"
   ]
  },
  {
   "cell_type": "markdown",
   "id": "d9adb0ce-889f-4bd2-b005-6232efe84d2f",
   "metadata": {},
   "source": [
    "Finally calculate proportions of medals by number of participants:"
   ]
  },
  {
   "cell_type": "code",
   "execution_count": null,
   "id": "74ca2b31-17a3-433f-80b3-3ca66d1ea8c2",
   "metadata": {},
   "outputs": [],
   "source": [
    "medal_country_s[\"total_nr_medals\"] = medal_country_s[[\"Bronze\", \"Gold\", \"Silver\"]].sum(axis=1)\n",
    "medal_country_s[\"prop_medals_participants\"] = medal_country_s[\"total_nr_medals\"]/medal_country_s[\"nr_participants\"]"
   ]
  },
  {
   "cell_type": "code",
   "execution_count": null,
   "id": "10b6c692-c6c5-40b2-b495-54d0e2ca2584",
   "metadata": {},
   "outputs": [],
   "source": [
    "medal_country_w[\"total_nr_medals\"] = medal_country_w[[\"Bronze\", \"Gold\", \"Silver\"]].sum(axis=1)\n",
    "medal_country_w[\"prop_medals_participants\"] = medal_country_w[\"total_nr_medals\"]/medal_country_w[\"nr_participants\"]"
   ]
  },
  {
   "cell_type": "markdown",
   "id": "76da8d6a-853e-4935-b496-8c91c1f4c85c",
   "metadata": {},
   "source": [
    "#### 7.1 Number of participants by country"
   ]
  },
  {
   "cell_type": "code",
   "execution_count": null,
   "id": "247ba036-d170-4417-a2ae-78a6bd293c3d",
   "metadata": {},
   "outputs": [],
   "source": [
    "part = sns.barplot(\n",
    "    data=medal_country_s.sort_values(by=\"nr_participants\", ascending=False).head(10),\n",
    "    x=\"country_name\",\n",
    "    y=\"nr_participants\"\n",
    ")\n",
    "part.set_title(\"Number of participants by country in summer\")\n",
    "plt.xticks(rotation=45)\n",
    "plt.show()"
   ]
  },
  {
   "cell_type": "code",
   "execution_count": null,
   "id": "c8fa0914-a8fd-4b55-b61d-b898512f6885",
   "metadata": {},
   "outputs": [],
   "source": [
    "part = sns.barplot(\n",
    "    data=medal_country_w.sort_values(by=\"nr_participants\", ascending=False).head(10),\n",
    "    x=\"country_name\",\n",
    "    y=\"nr_participants\"\n",
    ")\n",
    "part.set_title(\"Number of participants by country in winter\")\n",
    "plt.xticks(rotation=45)\n",
    "plt.show()"
   ]
  },
  {
   "cell_type": "markdown",
   "id": "9033597f-b8de-40a9-ac29-d0dc373eba2e",
   "metadata": {},
   "source": [
    "**INSIGHTS:**\n",
    "\n",
    "* The USA was a major contributor of athletes to the olympic games (over 5%), both in summer and in winter.  \n"
   ]
  },
  {
   "cell_type": "markdown",
   "id": "aea61f27-9260-456d-a11e-05594145c76a",
   "metadata": {},
   "source": [
    "#### 7.1 Proportion of medals by country\n"
   ]
  },
  {
   "cell_type": "markdown",
   "id": "25a830d1-91a4-441e-a58e-0ebc3449b712",
   "metadata": {},
   "source": [
    "The **top 10 countries** with more **medals by participant** are:"
   ]
  },
  {
   "cell_type": "code",
   "execution_count": null,
   "id": "d837d0f4-5b02-446b-8031-c5b84ec913b4",
   "metadata": {},
   "outputs": [],
   "source": [
    "part = sns.barplot(\n",
    "    data=medal_country_s.sort_values(by=\"prop_medals_participants\", ascending=False).head(10),\n",
    "    x=\"country_name\",\n",
    "    y=\"prop_medals_participants\"\n",
    ")\n",
    "part.set_title(\"Proportion of medals by participants in summer\")\n",
    "plt.xticks(rotation=45)\n",
    "plt.show()"
   ]
  },
  {
   "cell_type": "code",
   "execution_count": null,
   "id": "b7a68fe4-e52c-4016-be6c-923468300664",
   "metadata": {},
   "outputs": [],
   "source": [
    "part = sns.barplot(\n",
    "    data=medal_country_w.sort_values(by=\"prop_medals_participants\", ascending=False).head(10),\n",
    "    x=\"country_name\",\n",
    "    y=\"prop_medals_participants\"\n",
    ")\n",
    "part.set_title(\"Proportion of medals by participants in winter\")\n",
    "plt.xticks(rotation=45)\n",
    "plt.show()"
   ]
  },
  {
   "cell_type": "markdown",
   "id": "3d0a75a5-40ee-4ac4-a1b9-928426deaf40",
   "metadata": {},
   "source": [
    "**INSIGHTS:** \n",
    "\n",
    "* The USA are clearly superior in summer. They won 72 medals every 100 athletes. \n",
    "\n",
    "* Norway is clearly superior in winter. They won 73 medals every 100 athletes.\n"
   ]
  },
  {
   "cell_type": "markdown",
   "id": "75fa91bc-25f0-4c23-8de7-9858e940e4b0",
   "metadata": {},
   "source": [
    "#### 7.3 Relationship between country latitude and winter games"
   ]
  },
  {
   "cell_type": "markdown",
   "id": "34e4e149-55b4-440c-b952-72f27ffeac56",
   "metadata": {},
   "source": [
    "The data shows that the top 10 countries in the 2014 winter games are located mainly in Northern or Western Europe. Therefore I suspect that countries in high latitudes are better at winter games."
   ]
  },
  {
   "cell_type": "code",
   "execution_count": null,
   "id": "aef4f69c-d497-4ba3-9065-474085d99fd6",
   "metadata": {},
   "outputs": [],
   "source": [
    "medal_country_w[[\"country_name\", \"Gold\", \"Silver\", \"Bronze\", \"No medal\", \"nr_participants\", \"prop_medals_participants\"]].sort_values(by=\"prop_medals_participants\", ascending=False).head(10)"
   ]
  }
 ],
 "metadata": {
  "kernelspec": {
   "name": "python376jvsc74a57bd0a27d551aa444842e0b7a5d59e036eb518246af832b9472ea652ce2621393f126",
   "display_name": "Python 3.7.6 64-bit ('base': conda)"
  },
  "language_info": {
   "codemirror_mode": {
    "name": "ipython",
    "version": 3
   },
   "file_extension": ".py",
   "mimetype": "text/x-python",
   "name": "python",
   "nbconvert_exporter": "python",
   "pygments_lexer": "ipython3",
   "version": "3.7.6-final"
  },
  "metadata": {
   "interpreter": {
    "hash": "a27d551aa444842e0b7a5d59e036eb518246af832b9472ea652ce2621393f126"
   }
  }
 },
 "nbformat": 4,
 "nbformat_minor": 5
}